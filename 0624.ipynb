{
 "cells": [
  {
   "cell_type": "markdown",
   "metadata": {},
   "source": [
    "# 0624,0625\n",
    "# ch1, ch2\n",
    "\n",
    "### 변수\n",
    "* 자료형 선언할 필요 x\n",
    "* 변수명 = 값 ; 변수정의 방법\n",
    "* 변수명 = 자료형(input(\"문자열\")); 변수에 사용자 입력값 받기.  \n",
    "  ㄴ(default; 문자열 형태로 저장>> 입력한 자료형으로 변경)  \n",
    "  ex) n = int(input(\"숫자를 입력하세요: \"))  \n",
    "변수명; 대소문자 구분. 영문자,숫자,밑줄_ 사용가능.  \n",
    "    첫글자에 소문자 사용.(클래스와 구분하기 위해) 첫글자로 숫자x\n",
    "\n",
    "### 산술 연산자\n",
    "* 덧셈+, 뺄셈-, 곱셈\\*, 나눗셈/, 나눗셈의몫//, 나머지%, 지수(power)**  \n",
    "연산 순서는 기존의 사칙연산과 같다.(지수>곱셈나눗셈>덧셈뺄셈)\n",
    "\n",
    "### 함수(function)\n",
    "* 절대값abs(), 반올림round(), 최대값max(a,b,...), 최소값min(a,b,...),,,\n",
    "* math 라이브러리 함수(from math import *);\n",
    "    sin(), ceil(), cos(), log(), factorial(), floor(), gcd(), sqrt(),,,\n",
    "* input()함수; ()안의 문자열을 출력하고 입력값을 받아 변수에 문자열로 저장\n",
    "* 자료형(); ()안의 자료형을 변경.\n",
    "* import 문 사용방법\n",
    "    - from ~ import(\\*); 해당 클래스의 모든 함수 사용\n",
    "    - \\# include<~.h>\n",
    "\n",
    "### 자료형\n",
    "* int정수(integer), float실수(floating-point), str문자열(string)\n",
    "* 정수 진수 출력; 2진수(0b__), 8진수(0o__), 16진수(0x__)..\n",
    "type() 함수를 통해 자료형을 알수있음.  \n",
    "특수문자열(\\\\); 문자 앞에 \\가 붙으면 문자의 특수한 의미 잃어버림.  \n",
    "ex) \"\" 안에 \"\" 출력? \"(\\\")(\\\")\" 하나만 붙이면 됨.  \n",
    "문자열 출력??\n",
    " price = 10000\n",
    " print(\"상품의 가격은 %s원입니다.\" % price)\n",
    "정수형은 출력할때 따로 변환 안해도 문자열로 인식?? 아니면 처음부터 변수를 문자로인식?\n",
    "\n",
    "### 리스트, 인덱싱\n",
    "* 문자열[i]<< 배열처럼 인덱싱\n",
    "* 리스트~ 배열. list = [a, b, ,,,]; 마찬가지로 인덱싱 가능\n",
    "\n",
    "\n"
   ]
  },
  {
   "cell_type": "code",
   "execution_count": null,
   "metadata": {},
   "outputs": [],
   "source": [
    "# 변수끼리 값 교환하기; temp사용\n",
    "x = 1\n",
    "y = 2\n",
    "print(\"변경 전: x =\", x, \", y =\", y)\n",
    "\n",
    "temp = x\n",
    "x = y\n",
    "y = temp\n",
    "print(\"변경 후: x =\", x, \", y =\", y)"
   ]
  },
  {
   "cell_type": "code",
   "execution_count": 1,
   "metadata": {},
   "outputs": [
    {
     "name": "stdout",
     "output_type": "stream",
     "text": [
      "물건의 값: 910\n",
      "1000원 개수 : 1\n",
      "500원 개수 : 0\n",
      "100원 개수 : 0\n",
      "거스름돈을 받으세요.\n",
      "500원: 0 개, 100원: 0 개. 10원: 9 개\n"
     ]
    }
   ],
   "source": [
    "# 자동판매기 프로그램\n",
    "price = int(input(\"물건의 값: \"))\n",
    "a = int(input(\"1000원 개수 : \"))\n",
    "b = int(input(\"500원 개수 : \"))\n",
    "c = int(input(\"100원 개수 : \"))\n",
    "change = 1000*a + 500*b + 100*c - price\n",
    "b_ = change//500\n",
    "change = change - 500*b_\n",
    "c_ = change//100\n",
    "change = change - 100*c_\n",
    "d_ = change//10\n",
    "if change<0:\n",
    "    print(\"돈이 부족합니다.\")\n",
    "else:\n",
    "    print(\"거스름돈을 받으세요.\")\n",
    "    print(\"500원:\",b_,\"개, 100원:\",c_,\"개. 10원:\",d_,\"개\")\n",
    "#    print(\"500원: %s개, 100원: %s개. 10원: %s개\" %b_ %c_ %d_)\n"
   ]
  },
  {
   "cell_type": "code",
   "execution_count": 4,
   "metadata": {},
   "outputs": [
    {
     "name": "stdout",
     "output_type": "stream",
     "text": [
      "1,0,0\n"
     ]
    }
   ],
   "source": [
    "print(\"{0},{1},{2}\". format(a, b, c))"
   ]
  }
 ],
 "metadata": {
  "kernelspec": {
   "display_name": "Python 3",
   "language": "python",
   "name": "python3"
  },
  "language_info": {
   "codemirror_mode": {
    "name": "ipython",
    "version": 3
   },
   "file_extension": ".py",
   "mimetype": "text/x-python",
   "name": "python",
   "nbconvert_exporter": "python",
   "pygments_lexer": "ipython3",
   "version": "3.7.3"
  }
 },
 "nbformat": 4,
 "nbformat_minor": 2
}
