{
 "cells": [
  {
   "cell_type": "markdown",
   "metadata": {},
   "source": [
    "# 0628,0701\n",
    "# ch4, ch5\n",
    "\n",
    "### while 문; 반복문\n",
    "* 조건이 참인 동안 반복\n",
    "while 조건:  \n",
    "    명령1  \n",
    "    명령2...  \n",
    "\n",
    "\n",
    "**문자열 검사 함수**  \n",
    ".isalpha(): 알파벳 문자인지 검사  \n",
    ".isdigit(): 숫자인지 검사  \n",
    ".isspace(): 공백인지 검사  \n",
    "결과값; boolean  \n",
    "\n",
    "### 함수\n",
    "; 특정 작업을 수행하는 명령어들의 모음에 이름을 붙인것  \n",
    "데이터전달(입력)> 작업> 결과반환(출력)  \n",
    "함수는 프로그램 내의 중복된 코드를 제거해 가독성을 높인다.\n",
    "* 함수 작성; 코드 처음부분에 정의.  \n",
    "def 함수명 (매개변수1, 매개변수2,,,):  \n",
    "    문장1  \n",
    "    ,,,  \n",
    "    return 반환값<< 필요한경우만 작성  \n",
    "* 매개변수에 default인수를 넣을수 있다.  \n",
    "* 인수들을 위치가 아니고 키워드에 의해 함수로 전달할 수 있다.; 파이썬 특징  \n",
    "def func(x, y, z):  \n",
    "print(calc(y=1, x=2, z=3))  \n",
    "* 여러개의 값 반환하기; list 정의하지 않고 바로 가능.\n",
    "def sub():  \n",
    "    return 1, 2, 3  \n",
    "a, b, c = sub()  \n",
    "\n",
    "\n",
    "**전역변수를 함수 내로 불러오려면 global ~ 이라고 선언해줘야함.**\n",
    "\n"
   ]
  },
  {
   "cell_type": "code",
   "execution_count": null,
   "metadata": {},
   "outputs": [],
   "source": [
    "# while, if문 연습; 숫자 맞추는 프로그램\n",
    "import random\n",
    "print(\"숫자맞춰보기\")\n",
    "n = random.randint(1,10)\n",
    "while 1:\n",
    "    a = input(\"1~10 ? : \")\n",
    "    answer = int(a)\n",
    "    if answer==n:\n",
    "        print(\"정답!\")\n",
    "        break\n",
    "    elif answer>n:\n",
    "        print(answer,\"보다 작음\")\n",
    "    else:\n",
    "        print(answer,\"보다 큼\")"
   ]
  },
  {
   "cell_type": "code",
   "execution_count": 6,
   "metadata": {
    "scrolled": true
   },
   "outputs": [
    {
     "name": "stdout",
     "output_type": "stream",
     "text": [
      "2 x 1 = 2\t3 x 1 = 3\t4 x 1 = 4\t5 x 1 = 5\t6 x 1 = 6\t7 x 1 = 7\t8 x 1 = 8\t9 x 1 = 9\t\n",
      "2 x 2 = 4\t3 x 2 = 6\t4 x 2 = 8\t5 x 2 = 10\t6 x 2 = 12\t7 x 2 = 14\t8 x 2 = 16\t9 x 2 = 18\t\n",
      "2 x 3 = 6\t3 x 3 = 9\t4 x 3 = 12\t5 x 3 = 15\t6 x 3 = 18\t7 x 3 = 21\t8 x 3 = 24\t9 x 3 = 27\t\n",
      "2 x 4 = 8\t3 x 4 = 12\t4 x 4 = 16\t5 x 4 = 20\t6 x 4 = 24\t7 x 4 = 28\t8 x 4 = 32\t9 x 4 = 36\t\n",
      "2 x 5 = 10\t3 x 5 = 15\t4 x 5 = 20\t5 x 5 = 25\t6 x 5 = 30\t7 x 5 = 35\t8 x 5 = 40\t9 x 5 = 45\t\n",
      "2 x 6 = 12\t3 x 6 = 18\t4 x 6 = 24\t5 x 6 = 30\t6 x 6 = 36\t7 x 6 = 42\t8 x 6 = 48\t9 x 6 = 54\t\n",
      "2 x 7 = 14\t3 x 7 = 21\t4 x 7 = 28\t5 x 7 = 35\t6 x 7 = 42\t7 x 7 = 49\t8 x 7 = 56\t9 x 7 = 63\t\n",
      "2 x 8 = 16\t3 x 8 = 24\t4 x 8 = 32\t5 x 8 = 40\t6 x 8 = 48\t7 x 8 = 56\t8 x 8 = 64\t9 x 8 = 72\t\n",
      "2 x 9 = 18\t3 x 9 = 27\t4 x 9 = 36\t5 x 9 = 45\t6 x 9 = 54\t7 x 9 = 63\t8 x 9 = 72\t9 x 9 = 81\t\n"
     ]
    }
   ],
   "source": [
    "# 중첩반복문; 구구단 출력\n",
    "for i in range(1,10):\n",
    "    for j in range(2,10):\n",
    "        print(\"{} x {} = {}\".format(j, i, i*j), end=\"\\t\")\n",
    "    print()"
   ]
  },
  {
   "cell_type": "code",
   "execution_count": 4,
   "metadata": {},
   "outputs": [
    {
     "name": "stdout",
     "output_type": "stream",
     "text": [
      "모음을 없애드립니다^^: dodhddodhd\n",
      "ddhdddhd\n"
     ]
    }
   ],
   "source": [
    "# 문자열을 받아서 모음을 없애는 코드\n",
    "s = input(\"모음을 없애드립니다^^ 영어 입력해: \")\n",
    "moum = \"aeiouAEIOU\"\n",
    "result = \"\"\n",
    "for letter in s:\n",
    "    if letter not in moum:\n",
    "        result += letter\n",
    "print(result)"
   ]
  },
  {
   "cell_type": "code",
   "execution_count": 9,
   "metadata": {},
   "outputs": [
    {
     "name": "stdout",
     "output_type": "stream",
     "text": [
      "정수를 입력하세요 5\n",
      "True\n"
     ]
    }
   ],
   "source": [
    "# 소수 판별하는 함수\n",
    "def is_prime(n):\n",
    "    for i in range(2,n):\n",
    "        if n%i==0:\n",
    "            return False\n",
    "    return True\n",
    "n = int(input(\"정수를 입력하세요 \"))\n",
    "print(is_prime(n))"
   ]
  },
  {
   "cell_type": "code",
   "execution_count": 10,
   "metadata": {},
   "outputs": [
    {
     "name": "stdout",
     "output_type": "stream",
     "text": [
      "eboogg\n",
      "5rkrdl\n",
      "x0eflr\n"
     ]
    }
   ],
   "source": [
    "# 패스워드 생성기\n",
    "import random\n",
    "def genPass():\n",
    "    alphabet = \"abcdefghijklmnopqrstuvwxyz0123456789\"\n",
    "    password = \"\"\n",
    "    for i in range(6):\n",
    "        index = random.randrange(len(alphabet))\n",
    "        # !!len(), randrange()함수!!\n",
    "        password += alphabet[index]\n",
    "    return password\n",
    "\n",
    "print(genPass())\n",
    "print(genPass())\n",
    "print(genPass())"
   ]
  },
  {
   "cell_type": "code",
   "execution_count": 11,
   "metadata": {},
   "outputs": [
    {
     "name": "stdout",
     "output_type": "stream",
     "text": [
      "로또를 몇장 구매하시겠습니까? 5\n",
      "로또 번호\n",
      "[ 1 ]:  16   6  45  26  34  15  \n",
      "[ 2 ]:  41  36  16  31  25  11  \n",
      "[ 3 ]:   7  42   1  42  31  21  \n",
      "[ 4 ]:   1  15  43   1  40  11  \n",
      "[ 5 ]:  22  20  40  32  43  11  \n",
      "\n",
      "로또를 몇장 구매하시겠습니까? 0\n",
      "종료합니다.\n"
     ]
    }
   ],
   "source": [
    "# HW3 로또 번호 생성 프로그램\n",
    "\n",
    "import random\n",
    "def gen_lotto(buy):\n",
    "    for j in range(buy):\n",
    "        print(\"[ {} ]:  \".format(j+1), end=\"\")\n",
    "        for i in range(6):\n",
    "            r_num = str(random.randint(1,45))\n",
    "            print(\"%2s  \" %r_num ,end=\"\")\n",
    "        print()\n",
    "while 1:\n",
    "    buy = int(input(\"로또를 몇장 구매하시겠습니까? \"))\n",
    "    if buy==0:\n",
    "        print(\"종료합니다.\")\n",
    "        break\n",
    "    print(\"로또 번호\")\n",
    "    gen_lotto(buy)\n",
    "    print()"
   ]
  },
  {
   "cell_type": "code",
   "execution_count": null,
   "metadata": {},
   "outputs": [
    {
     "name": "stdout",
     "output_type": "stream",
     "text": [
      "'c' 섭씨온도에서 화씨온도로 변환\n",
      "'f' 화씨온도에서 섭씨온도로 변환\n",
      "'q' 종료\n"
     ]
    }
   ],
   "source": [
    "# 온도변환기\n",
    "def c_to_f(c):\n",
    "    f = c*9.0/5.0 + 32.0\n",
    "    return f\n",
    "def f_to_c(f):\n",
    "    c = (f-32.0)*5.0/9.0\n",
    "    return c\n",
    "\n",
    "while 1:\n",
    "    print(\"'c' 섭씨온도에서 화씨온도로 변환\")\n",
    "    print(\"'f' 화씨온도에서 섭씨온도로 변환\")\n",
    "    print(\"'q' 종료\")\n",
    "    type = input(\"메뉴에서 선택하세요. \")\n",
    "    if type=='q':\n",
    "        print(\"종료합니다.\")\n",
    "        break\n",
    "    elif type=='c':\n",
    "        c = float(input(\"섭씨온도: \"))\n",
    "        print(\"화씨온도: %.2f\" % c_to_f(c))\n",
    "    elif type=='f':\n",
    "        f = float(input(\"화씨온도: \"))\n",
    "        print(\"섭씨온도: %.2f\" % f_to_c(f))\n",
    "    else:\n",
    "        print(\"[입력오류]\")"
   ]
  },
  {
   "cell_type": "code",
   "execution_count": 5,
   "metadata": {},
   "outputs": [
    {
     "name": "stdout",
     "output_type": "stream",
     "text": [
      "------------------------------ \n",
      "커피 자판기 동작을 종료합니다.\n",
      "------------------------------\n"
     ]
    }
   ],
   "source": [
    "# HW04 커피자판기 프로그램\n",
    "\n",
    "water = 1000\n",
    "coffee = 500\n",
    "cream = 500\n",
    "sugar = 500\n",
    "cup = 30\n",
    "\n",
    "def main():\n",
    "    global cup, water, coffee, cream, sugar\n",
    "    money = int(input(\"동전을 투입하세요: \"))\n",
    "    change = money\n",
    "    v_money = 10000 + money\n",
    "    \n",
    "    if money>=300:\n",
    "        while change>=300:\n",
    "            print(\"-\"*30)\n",
    "            p_menu()\n",
    "            menu = int(input(\"메뉴를 선택하세요: \"))\n",
    "            if menu == 1:\n",
    "                change -= 300\n",
    "                v_money += 300\n",
    "                if (cup<1 or water<100 or coffee<30):\n",
    "                    print(\"재고가 부족합니다.\")\n",
    "                    q()\n",
    "                    break\n",
    "                print(\"블랙 커피를 선택하셨습니다. 잔돈:\", change)\n",
    "                m1()\n",
    "            elif menu == 2:\n",
    "                change -= 300\n",
    "                v_money += 300\n",
    "                if (cup<1 or water<100 or coffee<15 or cream<15):\n",
    "                    print(\"재고가 부족합니다.\")\n",
    "                    q()\n",
    "                    break\n",
    "                print(\"프림 커피를 선택하셨습니다. 잔돈:\", change)\n",
    "                m2()\n",
    "            elif menu == 3:\n",
    "                change -= 300\n",
    "                v_money += 300\n",
    "                if (cup<1 or water<100 or coffee<10 or cream<10 or sugar<10):\n",
    "                    print(\"재고가 부족합니다.\")\n",
    "                    q()\n",
    "                    break\n",
    "                print(\"설탕 프림 커피를 선택하셨습니다. 잔돈:\", change)\n",
    "                m3()\n",
    "            elif menu == 4:\n",
    "                m4()\n",
    "                print(\"자판기 남은 돈: {}원, 잔돈 현황: {}원\".format(v_money, change))\n",
    "            elif menu == 5:\n",
    "                q()\n",
    "            else:\n",
    "                print(\"[입력오류]\")\n",
    "        print(\"잔돈이 부족해서 종료합니다.\")\n",
    "        q()\n",
    "    else:\n",
    "        print(\"돈이 부족합니다. %d원:\" % money)\n",
    "        q()\n",
    "\n",
    "def p_menu():\n",
    "    print(\"\\t커피 자판기 (300원)\")\n",
    "    print(\"1. 블랙 커피\")\n",
    "    print(\"2. 프림 커피\")\n",
    "    print(\"3. 설탕 프림 커피\")\n",
    "    print(\"4. 재고 현황\")\n",
    "    print(\"5. 종료\")\n",
    "\n",
    "def m1():\n",
    "    global cup, water, coffee\n",
    "    cup -= 1\n",
    "    water -= 100\n",
    "    coffee -= 30\n",
    "def m2():\n",
    "    global cup, water, coffee, cream\n",
    "    cup -= 1\n",
    "    water -= 100\n",
    "    coffee -= 15\n",
    "    cream -= 15\n",
    "def m3():\n",
    "    global cup, water, coffee, cream, sugar\n",
    "    cup -= 1\n",
    "    water -= 100\n",
    "    coffee -= 10\n",
    "    cream -= 10\n",
    "    sugar -= 10\n",
    "def m4():\n",
    "    global cup, water, coffee, cream, sugar\n",
    "    print(\"-\"*30)\n",
    "    print(\"재고 현황:\")\n",
    "    print(\"커피: {}g, 프림: {}g, 설탕: {}g\".format(coffee, cream, sugar))\n",
    "    print(\"물: {}ml, 종이컵: {}개\".format(water, cup))\n",
    "def q():\n",
    "    print(\"-\"*30,\"\\n커피 자판기 동작을 종료합니다.\")\n",
    "    print(\"-\"*30)\n",
    "\n",
    "main()"
   ]
  }
 ],
 "metadata": {
  "kernelspec": {
   "display_name": "Python 3",
   "language": "python",
   "name": "python3"
  },
  "language_info": {
   "codemirror_mode": {
    "name": "ipython",
    "version": 3
   },
   "file_extension": ".py",
   "mimetype": "text/x-python",
   "name": "python",
   "nbconvert_exporter": "python",
   "pygments_lexer": "ipython3",
   "version": "3.7.3"
  }
 },
 "nbformat": 4,
 "nbformat_minor": 2
}
